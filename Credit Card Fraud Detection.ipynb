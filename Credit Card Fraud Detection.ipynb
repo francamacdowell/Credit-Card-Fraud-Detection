{
 "cells": [
  {
   "cell_type": "markdown",
   "metadata": {},
   "source": [
    "# Credit Card Fraud Detection"
   ]
  },
  {
   "cell_type": "markdown",
   "metadata": {},
   "source": [
    "## Introduction\n",
    "\n",
    "  It is important that credit card companies are able to recognize frauds on credit card transactions.\n",
    "  \n",
    "   On Kaggle, we have access to a dataset which contains transactions made by credit cards in September 2013 by europeans. This dataset presents transactions that occurred in two days, where we have 492 frauds out of 284,807 transactions. The dataset is highly unbalanced, the positive class (frauds) account for 0.172% of all transactions.\n",
    "   \n",
    "   The features V1, V2, ..., V28 are the principal components obtained with PCA and all are numeric and confidentials."
   ]
  },
  {
   "cell_type": "markdown",
   "metadata": {},
   "source": [
    "#### Dataset: \n",
    "\n",
    "https://www.kaggle.com/mlg-ulb/creditcardfraud"
   ]
  },
  {
   "cell_type": "markdown",
   "metadata": {},
   "source": [
    "## Problem Statement\n",
    "\n",
    "Due to the fraudulent credit card transactions problem and your data, how good we can predict them?\n",
    "\n",
    "To solve this problem, we'll follow a standard data science pipeline plan of attack:\n",
    "\n",
    "#### 1. Understand the problem and the data\n",
    "#### 2. Data exploration\n",
    "#### 3. Feature engineering / feature selection\n",
    "#### 4. Model evaluation and selection\n",
    "#### 5. Model optimization\n",
    "#### 6. Interpretation of results and predictions"
   ]
  },
  {
   "cell_type": "markdown",
   "metadata": {},
   "source": [
    "### Getting Start:\n",
    "\n",
    "Doing the necessary imports:"
   ]
  },
  {
   "cell_type": "code",
   "execution_count": 50,
   "metadata": {},
   "outputs": [],
   "source": [
    "import pandas as pd\n",
    "import matplotlib.pyplot as plt\n",
    "import seaborn as sns\n",
    "from sklearn.preprocessing import StandardScaler\n",
    "from sklearn.model_selection import StratifiedShuffleSplit\n",
    "from sklearn.neural_network import MLPClassifier\n",
    "from sklearn.ensemble import RandomForestClassifier\n",
    "from sklearn.metrics import roc_auc_score\n",
    "from sklearn.metrics import f1_score\n",
    "import warnings"
   ]
  },
  {
   "cell_type": "markdown",
   "metadata": {},
   "source": [
    "Let's ignore warnings about deprecated things:"
   ]
  },
  {
   "cell_type": "code",
   "execution_count": 51,
   "metadata": {},
   "outputs": [],
   "source": [
    "warnings.filterwarnings(\"ignore\")"
   ]
  },
  {
   "cell_type": "markdown",
   "metadata": {},
   "source": [
    "#### Reading the dataset:"
   ]
  },
  {
   "cell_type": "code",
   "execution_count": 52,
   "metadata": {},
   "outputs": [],
   "source": [
    "card_transactions = pd.read_csv('creditcard.csv')"
   ]
  },
  {
   "cell_type": "markdown",
   "metadata": {},
   "source": [
    "## Understand the problem and the data\n",
    "\n",
    "I will start seeing the shape and columns names of our dataset, to answer my question: How many features and instances do I have?"
   ]
  },
  {
   "cell_type": "code",
   "execution_count": 53,
   "metadata": {},
   "outputs": [
    {
     "name": "stdout",
     "output_type": "stream",
     "text": [
      "(284807, 31)\n",
      "---------------------------------------------------------------------------\n",
      "Index(['Time', 'V1', 'V2', 'V3', 'V4', 'V5', 'V6', 'V7', 'V8', 'V9', 'V10',\n",
      "       'V11', 'V12', 'V13', 'V14', 'V15', 'V16', 'V17', 'V18', 'V19', 'V20',\n",
      "       'V21', 'V22', 'V23', 'V24', 'V25', 'V26', 'V27', 'V28', 'Amount',\n",
      "       'Class'],\n",
      "      dtype='object')\n"
     ]
    }
   ],
   "source": [
    "print(card_transactions.shape)\n",
    "print('---------------------------------------------------------------------------')\n",
    "print(card_transactions.columns)"
   ]
  },
  {
   "cell_type": "markdown",
   "metadata": {},
   "source": [
    "As mentioned before, the features passed by a PCA algorithm and they are confidentials. The name doesn't help us to understand.\n",
    "\n",
    "Let's check all feature __types__:"
   ]
  },
  {
   "cell_type": "code",
   "execution_count": 54,
   "metadata": {},
   "outputs": [
    {
     "name": "stdout",
     "output_type": "stream",
     "text": [
      "Time      float64\n",
      "V1        float64\n",
      "V2        float64\n",
      "V3        float64\n",
      "V4        float64\n",
      "V5        float64\n",
      "V6        float64\n",
      "V7        float64\n",
      "V8        float64\n",
      "V9        float64\n",
      "V10       float64\n",
      "V11       float64\n",
      "V12       float64\n",
      "V13       float64\n",
      "V14       float64\n",
      "V15       float64\n",
      "V16       float64\n",
      "V17       float64\n",
      "V18       float64\n",
      "V19       float64\n",
      "V20       float64\n",
      "V21       float64\n",
      "V22       float64\n",
      "V23       float64\n",
      "V24       float64\n",
      "V25       float64\n",
      "V26       float64\n",
      "V27       float64\n",
      "V28       float64\n",
      "Amount    float64\n",
      "Class       int64\n",
      "dtype: object\n"
     ]
    }
   ],
   "source": [
    "print(card_transactions.dtypes)"
   ]
  },
  {
   "cell_type": "markdown",
   "metadata": {},
   "source": [
    "All of them are numerical and it's coherent. So doesn't need any type of cast."
   ]
  },
  {
   "cell_type": "markdown",
   "metadata": {},
   "source": [
    "### Data Distribution"
   ]
  },
  {
   "cell_type": "markdown",
   "metadata": {},
   "source": [
    "On the Kaggle's challenge description of dataset, they tell this data have a unbalanced distribution. Let's check:"
   ]
  },
  {
   "cell_type": "code",
   "execution_count": 55,
   "metadata": {},
   "outputs": [
    {
     "data": {
      "text/plain": [
       "Text(0, 0.5, 'Frequency')"
      ]
     },
     "execution_count": 55,
     "metadata": {},
     "output_type": "execute_result"
    },
    {
     "data": {
      "image/png": "[encoded data removed]",
      "text/plain": [
       "<Figure size 432x288 with 1 Axes>"
      ]
     },
     "metadata": {
      "needs_background": "light"
     },
     "output_type": "display_data"
    }
   ],
   "source": [
    "count_classes = pd.value_counts(card_transactions['Class'], sort = True)\n",
    "\n",
    "# Creating a plot with bar kind:\n",
    "count_classes.plot(kind = 'bar', rot=0)\n",
    "\n",
    "# Setting plotting title and axi's legends:\n",
    "plt.title(\"Data Class distribution\")\n",
    "plt.xlabel(\"Class\")\n",
    "plt.ylabel(\"Frequency\")"
   ]
  },
  {
   "cell_type": "markdown",
   "metadata": {},
   "source": [
    "Now I'm sure, the data is totally unbalanced."
   ]
  },
  {
   "cell_type": "markdown",
   "metadata": {},
   "source": [
    "__There are several ways to approach this unbalanced distribution problem:__\n",
    "\n",
    "- Collect more data. (Not applicable in this case)\n",
    "***\n",
    "- Use metrics like F1, Precision, Recall and ROC\n",
    "    - __Here is a link for a very good post talking about metrics for unbalanced data: https://towardsdatascience.com/what-metrics-should-we-use-on-imbalanced-data-set-precision-recall-roc-e2e79252aeba__\n",
    "***\n",
    "- Resampling the dataset\n",
    "\n",
    "    - This is as method that will process the data to have an approximate 50-50 ratio;\n",
    "    \n",
    "    - One way to anchieve this is OVER-sampling, adding copies of the under-represented class (better with __little__ data);\n",
    "    \n",
    "    - Another way is UNDER-sampling, deleting instances from the over-represented class (better with __lot's__ of data).\n",
    "***"
   ]
  },
  {
   "cell_type": "markdown",
   "metadata": {},
   "source": [
    "## Data exploration / Data cleaning"
   ]
  },
  {
   "cell_type": "markdown",
   "metadata": {},
   "source": [
    "###  Have any null value in the DataFrame?"
   ]
  },
  {
   "cell_type": "markdown",
   "metadata": {},
   "source": [
    "I'm going to check if have any value on instances with null values:"
   ]
  },
  {
   "cell_type": "code",
   "execution_count": 56,
   "metadata": {},
   "outputs": [
    {
     "name": "stdout",
     "output_type": "stream",
     "text": [
      "False\n"
     ]
    }
   ],
   "source": [
    "print(card_transactions.isnull().values.any())"
   ]
  },
  {
   "cell_type": "markdown",
   "metadata": {},
   "source": [
    "Well, I don't need to worry about treat null values."
   ]
  },
  {
   "cell_type": "markdown",
   "metadata": {},
   "source": [
    "### Analysis Fraud and Valid Transactions "
   ]
  },
  {
   "cell_type": "markdown",
   "metadata": {},
   "source": [
    "Determine the number of fraud and valid transactions:"
   ]
  },
  {
   "cell_type": "code",
   "execution_count": 57,
   "metadata": {},
   "outputs": [
    {
     "name": "stdout",
     "output_type": "stream",
     "text": [
      "Fraud shape: (492, 31)\n",
      "Valid shape: (284315, 31)\n"
     ]
    }
   ],
   "source": [
    "fraud_data = card_transactions[card_transactions['Class'] == 1]\n",
    "normal_data = card_transactions[card_transactions['Class'] == 0]\n",
    "\n",
    "print('Fraud shape: ' + str(fraud_data.shape))\n",
    "print('Valid shape: ' + str(normal_data.shape))"
   ]
  },
  {
   "cell_type": "markdown",
   "metadata": {},
   "source": [
    "#### How many percents each Class represents on this skewed distribution?"
   ]
  },
  {
   "cell_type": "code",
   "execution_count": 58,
   "metadata": {},
   "outputs": [
    {
     "name": "stdout",
     "output_type": "stream",
     "text": [
      "No Fraud:  0.17 % of the dataset.\n",
      "Fraud:  99.83 % of the dataset.\n"
     ]
    }
   ],
   "source": [
    "print('No Fraud: ', round(len(fraud_data)/len(card_transactions) * 100,2), '% of the dataset.')\n",
    "print('Fraud: ', round(len(normal_data)/len(card_transactions) * 100,2), '% of the dataset.')"
   ]
  },
  {
   "cell_type": "markdown",
   "metadata": {},
   "source": [
    "#### How different are the amount of money used in different transaction classes?"
   ]
  },
  {
   "cell_type": "markdown",
   "metadata": {},
   "source": [
    "##### Normal transactions:"
   ]
  },
  {
   "cell_type": "code",
   "execution_count": 59,
   "metadata": {},
   "outputs": [
    {
     "name": "stdout",
     "output_type": "stream",
     "text": [
      "count     492.000000\n",
      "mean      122.211321\n",
      "std       256.683288\n",
      "min         0.000000\n",
      "25%         1.000000\n",
      "50%         9.250000\n",
      "75%       105.890000\n",
      "max      2125.870000\n",
      "Name: Amount, dtype: float64\n"
     ]
    }
   ],
   "source": [
    "print(fraud_data.Amount.describe())"
   ]
  },
  {
   "cell_type": "markdown",
   "metadata": {},
   "source": [
    "##### Fraud transactions:"
   ]
  },
  {
   "cell_type": "code",
   "execution_count": 60,
   "metadata": {},
   "outputs": [
    {
     "name": "stdout",
     "output_type": "stream",
     "text": [
      "count    284315.000000\n",
      "mean         88.291022\n",
      "std         250.105092\n",
      "min           0.000000\n",
      "25%           5.650000\n",
      "50%          22.000000\n",
      "75%          77.050000\n",
      "max       25691.160000\n",
      "Name: Amount, dtype: float64\n"
     ]
    }
   ],
   "source": [
    "print(normal_data.Amount.describe())"
   ]
  },
  {
   "cell_type": "markdown",
   "metadata": {},
   "source": [
    "## Feature engineering / feature selection"
   ]
  },
  {
   "cell_type": "markdown",
   "metadata": {},
   "source": [
    "I am not going to perform feature engineering or feature selection in first instance.\n",
    "\n",
    "The dataset already has been downgraded in order to contain 30 features (28 anonymous + time + amount). Acording to Kaggle's description, they used PCA as feature engineering to reduce number of features.\n",
    "\n",
    "The only thing I'm going to do is normalize the _Amount_. As we could see previously, have a lot of variantion on data."
   ]
  },
  {
   "cell_type": "code",
   "execution_count": 61,
   "metadata": {},
   "outputs": [
    {
     "name": "stdout",
     "output_type": "stream",
     "text": [
      "0    0.244964\n",
      "1   -0.342475\n",
      "2    1.160686\n",
      "3    0.140534\n",
      "4   -0.073403\n",
      "Name: normAmount, dtype: float64\n"
     ]
    }
   ],
   "source": [
    "amount_values = card_transactions['Amount'].values\n",
    "standardized_amount = StandardScaler().fit_transform(amount_values.reshape(-1, 1))\n",
    "card_transactions['normAmount'] = standardized_amount\n",
    "card_transactions = card_transactions.drop(['Time', 'Amount'], axis=1)\n",
    "print(card_transactions['normAmount'].head())"
   ]
  },
  {
   "cell_type": "markdown",
   "metadata": {},
   "source": [
    "## Model evaluation and selection\n",
    "\n",
    "### Approach:\n",
    "1. Select Classifiers Algorithms to be used.\n",
    "***\n",
    "2. Compare what happens when using resampling techniques and when not using it.\n",
    "    - Evaluate the models by using *_Stratified Cross Validation_ (for not resampled), normal Cross Validation (for resampled) and some of the performance metrics mentioned before.\n",
    "***\n",
    "3. Repeat the best resampling/not resampling method, by tuning the parameters.\n",
    "***\n",
    "\n",
    "*_Stratified Cross Validation_ is a recommended CV technique to large imbalance in the distribution of the target class which the folds are made by preserving the percentage of samples for each class."
   ]
  },
  {
   "cell_type": "markdown",
   "metadata": {},
   "source": [
    "### Classifier Algorithms:\n",
    "\n",
    "I'm going to use these algorithms:\n",
    "\n",
    "* [Multi-layer Perceptron (MLPClassifier)](http://scikit-learn.org/stable/modules/neural_networks_supervised.html#multi-layer-perceptron)\n",
    "* [Random Forest Classifier (RandomForestClassifier)](http://scikit-learn.org/stable/modules/ensemble.html#random-forests)"
   ]
  },
  {
   "cell_type": "markdown",
   "metadata": {},
   "source": [
    "### Not resampling:"
   ]
  },
  {
   "cell_type": "markdown",
   "metadata": {},
   "source": [
    "Spliting data in X set and Y set (target): "
   ]
  },
  {
   "cell_type": "code",
   "execution_count": 62,
   "metadata": {},
   "outputs": [],
   "source": [
    "X = card_transactions.iloc[:, card_transactions.columns != 'Class']\n",
    "y = card_transactions.iloc[:, card_transactions.columns == 'Class']"
   ]
  },
  {
   "cell_type": "markdown",
   "metadata": {},
   "source": [
    "I'm going to create a function to perform and evaluate the models.\n",
    "- As said before, going to use Stratified Cross Validation because the dataset distribution is imbalanced\n",
    "- Will evaluate models with metrics: F1 and ROC_AUC"
   ]
  },
  {
   "cell_type": "code",
   "execution_count": 63,
   "metadata": {},
   "outputs": [],
   "source": [
    "# This fuction will evaluate used models returning f1 and roc_auc scores averages \n",
    "# of Stratified Cross Validation folders.\n",
    "def evaluate_models(X, y):\n",
    "    # Creating dict to save scores to evaluate:\n",
    "    f1_scores['MLPClassifier'] = []\n",
    "    roc_scores['MLPClassifier'] = []\n",
    "    f1_scores['RandomForestClassifier'] = []\n",
    "    roc_scores['RandomForestClassifier'] = []\n",
    "\n",
    "    # Initializing Stratified Cross Validation:\n",
    "    sss = StratifiedShuffleSplit(n_splits=5, test_size=0.3, random_state=42)\n",
    "    count = 0\n",
    "    for train_index, test_index in sss.split(X, y):\n",
    "        count += 1\n",
    "        X_train, X_test = X.iloc[train_index], X.iloc[test_index]\n",
    "        y_train, y_test = y.iloc[train_index], y.iloc[test_index]\n",
    "        perform_models(\n",
    "            [\n",
    "                MLPClassifier(solver='lbfgs'),\n",
    "                RandomForestClassifier(n_estimators=100, n_jobs=-1),\n",
    "            ],\n",
    "            X_train, X_test,\n",
    "            y_train, y_test,\n",
    "            count\n",
    "        )\n",
    "    print('Results:')\n",
    "    for model in f1_scores.keys():\n",
    "        print('  ' + model + ' has f1 average: ' + str( sum(f1_scores[model]) / len(f1_scores[model]) ))\n",
    "        print('  ' + model + ' has roc_auc average: ' + str( sum(roc_scores[model]) / len(roc_scores[model]) ))\n",
    "\n",
    "# Function to perform a list of models:\n",
    "def perform_models(classifiers, X_train, X_test, y_train, y_test, count):\n",
    "    string = ''\n",
    "    print(str(count) + ' interaction:\\n')\n",
    "    for classifier in classifiers:\n",
    "        # Creating key index in dict to save evaluation metrics value:\n",
    "\n",
    "        string += classifier.__class__.__name__\n",
    "\n",
    "        # Train:\n",
    "        classifier.fit(X_train, y_train)\n",
    "        \n",
    "        # Predicting values with model:\n",
    "        predicteds = classifier.predict(X_test)\n",
    "        \n",
    "        # Getting score metrics:\n",
    "        f1 = f1_score(y_test, predicteds)\n",
    "        roc = roc_auc_score(y_test, predicteds, average='weighted')\n",
    "        \n",
    "        # Adding scores:\n",
    "        f1_scores[classifier.__class__.__name__].append(f1)\n",
    "        roc_scores[classifier.__class__.__name__].append(roc)\n",
    "\n",
    "        string += ' has f1: ' + str(f1) + ' roc_auc: ' + str(roc)+ '\\n'\n",
    "        print('    ' + string)\n",
    "        string = ''\n",
    "    print('-----------------------------------------------------------------')"
   ]
  },
  {
   "cell_type": "markdown",
   "metadata": {},
   "source": [
    "Now I'm going to create f1_scores and roc_scores dictionaries and call evaluate_models function:"
   ]
  },
  {
   "cell_type": "code",
   "execution_count": 64,
   "metadata": {},
   "outputs": [
    {
     "name": "stdout",
     "output_type": "stream",
     "text": [
      "1 interaction:\n",
      "\n",
      "    MLPClassifier has f1: 0.8057553956834532 roc_auc: 0.8782728622285454\n",
      "\n",
      "    RandomForestClassifier has f1: 0.849624060150376 roc_auc: 0.8817274467151365\n",
      "\n",
      "----------------------------------------------\n",
      "2 interaction:\n",
      "\n",
      "    MLPClassifier has f1: 0.8461538461538461 roc_auc: 0.9086841296422749\n",
      "\n",
      "    RandomForestClassifier has f1: 0.8654545454545455 roc_auc: 0.9019801309604346\n",
      "\n",
      "----------------------------------------------\n",
      "3 interaction:\n",
      "\n",
      "    MLPClassifier has f1: 0.8175182481751826 roc_auc: 0.8782963102618417\n",
      "\n",
      "    RandomForestClassifier has f1: 0.8602941176470589 roc_auc: 0.8952292362120018\n",
      "\n",
      "----------------------------------------------\n",
      "4 interaction:\n",
      "\n",
      "    MLPClassifier has f1: 0.8382352941176471 roc_auc: 0.8850765150518946\n",
      "\n",
      "    RandomForestClassifier has f1: 0.8602941176470589 roc_auc: 0.8952292362120018\n",
      "\n",
      "----------------------------------------------\n",
      "5 interaction:\n",
      "\n",
      "    MLPClassifier has f1: 0.8059701492537312 roc_auc: 0.8647945207649763\n",
      "\n",
      "    RandomForestClassifier has f1: 0.8178438661710038 roc_auc: 0.8715571395300571\n",
      "\n",
      "----------------------------------------------\n",
      "Results:\n",
      "MLPClassifier has f1 average: 0.822726586676772\n",
      "MLPClassifier has roc_auc average: 0.8830248675899066\n",
      "RandomForestClassifier has f1 average: 0.8507021414140086\n",
      "RandomForestClassifier has roc_auc average: 0.8891446379259262\n"
     ]
    }
   ],
   "source": [
    "f1_scores = {}\n",
    "roc_scores = {}\n",
    "\n",
    "evaluate_models(X, y)"
   ]
  },
  {
   "cell_type": "markdown",
   "metadata": {},
   "source": [
    "### Resampling (with under-sampling):"
   ]
  },
  {
   "cell_type": "code",
   "execution_count": null,
   "metadata": {},
   "outputs": [],
   "source": []
  },
  {
   "cell_type": "markdown",
   "metadata": {},
   "source": [
    "## Model optimization"
   ]
  },
  {
   "cell_type": "markdown",
   "metadata": {},
   "source": [
    "## Interpretation of results and predictions"
   ]
  }
 ],
 "metadata": {
  "kernelspec": {
   "display_name": "Python 3",
   "language": "python",
   "name": "python3"
  },
  "language_info": {
   "codemirror_mode": {
    "name": "ipython",
    "version": 3
   },
   "file_extension": ".py",
   "mimetype": "text/x-python",
   "name": "python",
   "nbconvert_exporter": "python",
   "pygments_lexer": "ipython3",
   "version": "3.6.6"
  }
 },
 "nbformat": 4,
 "nbformat_minor": 2
}
